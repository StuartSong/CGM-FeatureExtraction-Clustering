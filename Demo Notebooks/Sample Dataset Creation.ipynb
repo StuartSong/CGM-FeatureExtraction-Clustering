{
 "cells": [
  {
   "cell_type": "code",
   "execution_count": 1,
   "id": "16c988e4",
   "metadata": {},
   "outputs": [],
   "source": [
    "import os\n",
    "import pandas as pd\n",
    "import CGM_TAML as taml\n",
    "from tqdm import tqdm\n",
    "import pickle\n",
    "\n",
    "import warnings\n",
    "warnings.filterwarnings(\"ignore\")\n",
    "from concurrent.futures import ThreadPoolExecutor"
   ]
  },
  {
   "cell_type": "markdown",
   "id": "628abaac",
   "metadata": {},
   "source": [
    "# Create Training Dataset using Shah_healthy_169 and Aleppo_T1D_226"
   ]
  },
  {
   "cell_type": "markdown",
   "id": "cb6fe48f",
   "metadata": {},
   "source": [
    "### Import Healthy and T1D Data"
   ]
  },
  {
   "cell_type": "code",
   "execution_count": 2,
   "id": "a3f05c25",
   "metadata": {},
   "outputs": [],
   "source": [
    "CGM_healthy = pd.read_csv(\"../Public Datasets/Shah_Healthy_169/NonDiabDeviceCGM_processed.csv\")\n",
    "CGM_T1D = pd.read_csv(\"../Public Datasets/Aleppo_T1D_226/HDeviceCGM_processed.csv\")\n",
    "\n",
    "# Change subjects id to unique ids\n",
    "CGM_healthy.id = 'Shah_healthy_'+CGM_healthy.id.astype(str)\n",
    "CGM_T1D.id = 'Ale_T1D_'+CGM_T1D.id.astype(str)"
   ]
  },
  {
   "cell_type": "code",
   "execution_count": 3,
   "id": "7b6fa29c",
   "metadata": {},
   "outputs": [],
   "source": [
    "all_subjects_table = pd.concat([CGM_healthy, CGM_T1D])\n",
    "all_subjects_table = all_subjects_table.rename(columns={\"id\": \"ID\", \"gl\": \"Glucose\", \"time\": \"Time\"})\n",
    "all_subjects_table.Time = pd.to_datetime(all_subjects_table['Time'])"
   ]
  },
  {
   "cell_type": "markdown",
   "id": "ffd9506d",
   "metadata": {},
   "source": [
    "### Compute glycemic features for all segmented days"
   ]
  },
  {
   "cell_type": "code",
   "execution_count": 6,
   "id": "8e886cc9",
   "metadata": {},
   "outputs": [
    {
     "data": {
      "text/plain": [
       "<module 'CGM_TAML_PA180_2' from '/Users/stuartsong/Library/CloudStorage/OneDrive-DukeUniversity/CGM/CIBM Journal/CGM_TAML_PA180_2.py'>"
      ]
     },
     "execution_count": 6,
     "metadata": {},
     "output_type": "execute_result"
    }
   ],
   "source": [
    "import importlib\n",
    "\n",
    "# Make changes to my_module.py\n",
    "\n",
    "importlib.reload(taml)  # Reload the module"
   ]
  },
  {
   "cell_type": "code",
   "execution_count": 7,
   "id": "0f3be661",
   "metadata": {},
   "outputs": [
    {
     "name": "stderr",
     "output_type": "stream",
     "text": [
      "100%|█████████████████████████████████████████| 395/395 [02:42<00:00,  2.42it/s]\n"
     ]
    }
   ],
   "source": [
    "all_subjects_table_data_grouped = all_subjects_table.groupby(['ID'])\n",
    "\n",
    "# Define a function to process each group\n",
    "def process_group(id):\n",
    "    current_id_data = all_subjects_table_data_grouped.get_group(id).sort_values(by='Time').reset_index(drop=True)\n",
    "    feature_table = taml.feature_extraction_fixed_hour_window_0oclock(current_id_data, id, hour=24)\n",
    "    return feature_table if feature_table.shape[1] > 1 else None\n",
    "\n",
    "# Use ThreadPoolExecutor to process groups in parallel\n",
    "with ThreadPoolExecutor() as executor:\n",
    "    # Map process_group function to each ID, and use tqdm for progress bar\n",
    "    results = list(tqdm(executor.map(process_group, all_subjects_table_data_grouped.groups.keys()), total=len(all_subjects_table_data_grouped)))\n",
    "\n",
    "# Concatenate non-None results to get the final DataFrame\n",
    "all_feature_table = pd.concat([res for res in results if res is not None], ignore_index=True)\n"
   ]
  },
  {
   "cell_type": "code",
   "execution_count": 8,
   "id": "a02c4c8c",
   "metadata": {},
   "outputs": [],
   "source": [
    "all_feature_table.dropna(inplace=True)\n",
    "all_feature_table.reset_index(inplace=True,drop=True)"
   ]
  },
  {
   "cell_type": "markdown",
   "id": "65ceaa6c",
   "metadata": {},
   "source": [
    "### Generate Label"
   ]
  },
  {
   "cell_type": "code",
   "execution_count": 6,
   "id": "36cefeae",
   "metadata": {},
   "outputs": [],
   "source": [
    "label = []\n",
    "for ids in all_feature_table.id:\n",
    "    if \"T1D\" in ids:\n",
    "        label.append(1)\n",
    "    else:\n",
    "        label.append(0)\n",
    "all_feature_table[\"label\"]=label"
   ]
  },
  {
   "cell_type": "code",
   "execution_count": 9,
   "id": "67802834-0b75-4dee-816c-291b9b0edeb9",
   "metadata": {},
   "outputs": [
    {
     "data": {
      "text/plain": [
       "Index(['id', 'mean', 'median', 'min', 'max', 'fq', 'tq', 'interdaysd',\n",
       "       'interdaycv', 'TOR', 'TIR', 'MGE', 'MGN', 'J_index', 'LBGI', 'HBGI',\n",
       "       'ADRR', 'TA140', 'TA200', 'TIR_70_180', 'TA180', 'TA250', 'TB70',\n",
       "       'TB54', 'TITR', 'GRI', 'PA140', 'PA180', 'PA200'],\n",
       "      dtype='object')"
      ]
     },
     "execution_count": 9,
     "metadata": {},
     "output_type": "execute_result"
    }
   ],
   "source": [
    "all_feature_table.columns"
   ]
  },
  {
   "cell_type": "code",
   "execution_count": 10,
   "id": "1fec1335",
   "metadata": {},
   "outputs": [],
   "source": [
    "all_feature_table.to_csv(\"CIBM_Journal_Training_Unbalanced.csv\",index=False)"
   ]
  },
  {
   "cell_type": "markdown",
   "id": "23869b3a",
   "metadata": {},
   "source": [
    "### Make Balanced dataset by keeping all Minor group and random downsample Major group"
   ]
  },
  {
   "cell_type": "code",
   "execution_count": 8,
   "id": "4d868a40",
   "metadata": {
    "collapsed": true
   },
   "outputs": [
    {
     "ename": "ValueError",
     "evalue": "Input X contains NaN.\nTomekLinks does not accept missing values encoded as NaN natively. For supervised learning, you might want to consider sklearn.ensemble.HistGradientBoostingClassifier and Regressor which accept missing values encoded as NaNs natively. Alternatively, it is possible to preprocess the data, for instance by using an imputer transformer in a pipeline or drop samples with missing values. See https://scikit-learn.org/stable/modules/impute.html You can find a list of all estimators that handle NaN values at the following page: https://scikit-learn.org/stable/modules/impute.html#estimators-that-handle-nan-values",
     "output_type": "error",
     "traceback": [
      "\u001b[0;31m---------------------------------------------------------------------------\u001b[0m",
      "\u001b[0;31mValueError\u001b[0m                                Traceback (most recent call last)",
      "\u001b[0;32m/var/folders/6g/yzjnpwkx3hb5gg1drzg1hnj40000gn/T/ipykernel_46155/221575969.py\u001b[0m in \u001b[0;36m<module>\u001b[0;34m\u001b[0m\n\u001b[1;32m      2\u001b[0m \u001b[0;34m\u001b[0m\u001b[0m\n\u001b[1;32m      3\u001b[0m \u001b[0mtl\u001b[0m \u001b[0;34m=\u001b[0m \u001b[0mTomekLinks\u001b[0m\u001b[0;34m(\u001b[0m\u001b[0msampling_strategy\u001b[0m\u001b[0;34m=\u001b[0m\u001b[0;34m'majority'\u001b[0m\u001b[0;34m)\u001b[0m\u001b[0;34m\u001b[0m\u001b[0;34m\u001b[0m\u001b[0m\n\u001b[0;32m----> 4\u001b[0;31m \u001b[0mX_res\u001b[0m\u001b[0;34m,\u001b[0m \u001b[0my_res\u001b[0m \u001b[0;34m=\u001b[0m \u001b[0mtl\u001b[0m\u001b[0;34m.\u001b[0m\u001b[0mfit_resample\u001b[0m\u001b[0;34m(\u001b[0m\u001b[0mall_feature_table\u001b[0m\u001b[0;34m.\u001b[0m\u001b[0miloc\u001b[0m\u001b[0;34m[\u001b[0m\u001b[0;34m:\u001b[0m\u001b[0;34m,\u001b[0m\u001b[0;36m1\u001b[0m\u001b[0;34m:\u001b[0m\u001b[0;34m-\u001b[0m\u001b[0;36m3\u001b[0m\u001b[0;34m]\u001b[0m\u001b[0;34m,\u001b[0m \u001b[0mall_feature_table\u001b[0m\u001b[0;34m.\u001b[0m\u001b[0miloc\u001b[0m\u001b[0;34m[\u001b[0m\u001b[0;34m:\u001b[0m\u001b[0;34m,\u001b[0m\u001b[0;34m-\u001b[0m\u001b[0;36m1\u001b[0m\u001b[0;34m]\u001b[0m\u001b[0;34m)\u001b[0m\u001b[0;34m\u001b[0m\u001b[0;34m\u001b[0m\u001b[0m\n\u001b[0m\u001b[1;32m      5\u001b[0m \u001b[0;34m\u001b[0m\u001b[0m\n\u001b[1;32m      6\u001b[0m \u001b[0mdownsampled_all_feature_table\u001b[0m \u001b[0;34m=\u001b[0m \u001b[0mall_feature_table\u001b[0m\u001b[0;34m.\u001b[0m\u001b[0miloc\u001b[0m\u001b[0;34m[\u001b[0m\u001b[0mtl\u001b[0m\u001b[0;34m.\u001b[0m\u001b[0msample_indices_\u001b[0m\u001b[0;34m]\u001b[0m\u001b[0;34m.\u001b[0m\u001b[0mreset_index\u001b[0m\u001b[0;34m(\u001b[0m\u001b[0mdrop\u001b[0m\u001b[0;34m=\u001b[0m\u001b[0;32mTrue\u001b[0m\u001b[0;34m)\u001b[0m\u001b[0;34m\u001b[0m\u001b[0;34m\u001b[0m\u001b[0m\n",
      "\u001b[0;32m~/opt/anaconda3/lib/python3.9/site-packages/imblearn/base.py\u001b[0m in \u001b[0;36mfit_resample\u001b[0;34m(self, X, y)\u001b[0m\n\u001b[1;32m    206\u001b[0m         \"\"\"\n\u001b[1;32m    207\u001b[0m         \u001b[0mself\u001b[0m\u001b[0;34m.\u001b[0m\u001b[0m_validate_params\u001b[0m\u001b[0;34m(\u001b[0m\u001b[0;34m)\u001b[0m\u001b[0;34m\u001b[0m\u001b[0;34m\u001b[0m\u001b[0m\n\u001b[0;32m--> 208\u001b[0;31m         \u001b[0;32mreturn\u001b[0m \u001b[0msuper\u001b[0m\u001b[0;34m(\u001b[0m\u001b[0;34m)\u001b[0m\u001b[0;34m.\u001b[0m\u001b[0mfit_resample\u001b[0m\u001b[0;34m(\u001b[0m\u001b[0mX\u001b[0m\u001b[0;34m,\u001b[0m \u001b[0my\u001b[0m\u001b[0;34m)\u001b[0m\u001b[0;34m\u001b[0m\u001b[0;34m\u001b[0m\u001b[0m\n\u001b[0m\u001b[1;32m    209\u001b[0m \u001b[0;34m\u001b[0m\u001b[0m\n\u001b[1;32m    210\u001b[0m     \u001b[0;32mdef\u001b[0m \u001b[0m_more_tags\u001b[0m\u001b[0;34m(\u001b[0m\u001b[0mself\u001b[0m\u001b[0;34m)\u001b[0m\u001b[0;34m:\u001b[0m\u001b[0;34m\u001b[0m\u001b[0;34m\u001b[0m\u001b[0m\n",
      "\u001b[0;32m~/opt/anaconda3/lib/python3.9/site-packages/imblearn/base.py\u001b[0m in \u001b[0;36mfit_resample\u001b[0;34m(self, X, y)\u001b[0m\n\u001b[1;32m    104\u001b[0m         \u001b[0mcheck_classification_targets\u001b[0m\u001b[0;34m(\u001b[0m\u001b[0my\u001b[0m\u001b[0;34m)\u001b[0m\u001b[0;34m\u001b[0m\u001b[0;34m\u001b[0m\u001b[0m\n\u001b[1;32m    105\u001b[0m         \u001b[0marrays_transformer\u001b[0m \u001b[0;34m=\u001b[0m \u001b[0mArraysTransformer\u001b[0m\u001b[0;34m(\u001b[0m\u001b[0mX\u001b[0m\u001b[0;34m,\u001b[0m \u001b[0my\u001b[0m\u001b[0;34m)\u001b[0m\u001b[0;34m\u001b[0m\u001b[0;34m\u001b[0m\u001b[0m\n\u001b[0;32m--> 106\u001b[0;31m         \u001b[0mX\u001b[0m\u001b[0;34m,\u001b[0m \u001b[0my\u001b[0m\u001b[0;34m,\u001b[0m \u001b[0mbinarize_y\u001b[0m \u001b[0;34m=\u001b[0m \u001b[0mself\u001b[0m\u001b[0;34m.\u001b[0m\u001b[0m_check_X_y\u001b[0m\u001b[0;34m(\u001b[0m\u001b[0mX\u001b[0m\u001b[0;34m,\u001b[0m \u001b[0my\u001b[0m\u001b[0;34m)\u001b[0m\u001b[0;34m\u001b[0m\u001b[0;34m\u001b[0m\u001b[0m\n\u001b[0m\u001b[1;32m    107\u001b[0m \u001b[0;34m\u001b[0m\u001b[0m\n\u001b[1;32m    108\u001b[0m         self.sampling_strategy_ = check_sampling_strategy(\n",
      "\u001b[0;32m~/opt/anaconda3/lib/python3.9/site-packages/imblearn/base.py\u001b[0m in \u001b[0;36m_check_X_y\u001b[0;34m(self, X, y, accept_sparse)\u001b[0m\n\u001b[1;32m    159\u001b[0m             \u001b[0maccept_sparse\u001b[0m \u001b[0;34m=\u001b[0m \u001b[0;34m[\u001b[0m\u001b[0;34m\"csr\"\u001b[0m\u001b[0;34m,\u001b[0m \u001b[0;34m\"csc\"\u001b[0m\u001b[0;34m]\u001b[0m\u001b[0;34m\u001b[0m\u001b[0;34m\u001b[0m\u001b[0m\n\u001b[1;32m    160\u001b[0m         \u001b[0my\u001b[0m\u001b[0;34m,\u001b[0m \u001b[0mbinarize_y\u001b[0m \u001b[0;34m=\u001b[0m \u001b[0mcheck_target_type\u001b[0m\u001b[0;34m(\u001b[0m\u001b[0my\u001b[0m\u001b[0;34m,\u001b[0m \u001b[0mindicate_one_vs_all\u001b[0m\u001b[0;34m=\u001b[0m\u001b[0;32mTrue\u001b[0m\u001b[0;34m)\u001b[0m\u001b[0;34m\u001b[0m\u001b[0;34m\u001b[0m\u001b[0m\n\u001b[0;32m--> 161\u001b[0;31m         \u001b[0mX\u001b[0m\u001b[0;34m,\u001b[0m \u001b[0my\u001b[0m \u001b[0;34m=\u001b[0m \u001b[0mself\u001b[0m\u001b[0;34m.\u001b[0m\u001b[0m_validate_data\u001b[0m\u001b[0;34m(\u001b[0m\u001b[0mX\u001b[0m\u001b[0;34m,\u001b[0m \u001b[0my\u001b[0m\u001b[0;34m,\u001b[0m \u001b[0mreset\u001b[0m\u001b[0;34m=\u001b[0m\u001b[0;32mTrue\u001b[0m\u001b[0;34m,\u001b[0m \u001b[0maccept_sparse\u001b[0m\u001b[0;34m=\u001b[0m\u001b[0maccept_sparse\u001b[0m\u001b[0;34m)\u001b[0m\u001b[0;34m\u001b[0m\u001b[0;34m\u001b[0m\u001b[0m\n\u001b[0m\u001b[1;32m    162\u001b[0m         \u001b[0;32mreturn\u001b[0m \u001b[0mX\u001b[0m\u001b[0;34m,\u001b[0m \u001b[0my\u001b[0m\u001b[0;34m,\u001b[0m \u001b[0mbinarize_y\u001b[0m\u001b[0;34m\u001b[0m\u001b[0;34m\u001b[0m\u001b[0m\n\u001b[1;32m    163\u001b[0m \u001b[0;34m\u001b[0m\u001b[0m\n",
      "\u001b[0;32m~/opt/anaconda3/lib/python3.9/site-packages/sklearn/base.py\u001b[0m in \u001b[0;36m_validate_data\u001b[0;34m(self, X, y, reset, validate_separately, cast_to_ndarray, **check_params)\u001b[0m\n\u001b[1;32m    619\u001b[0m                 \u001b[0my\u001b[0m \u001b[0;34m=\u001b[0m \u001b[0mcheck_array\u001b[0m\u001b[0;34m(\u001b[0m\u001b[0my\u001b[0m\u001b[0;34m,\u001b[0m \u001b[0minput_name\u001b[0m\u001b[0;34m=\u001b[0m\u001b[0;34m\"y\"\u001b[0m\u001b[0;34m,\u001b[0m \u001b[0;34m**\u001b[0m\u001b[0mcheck_y_params\u001b[0m\u001b[0;34m)\u001b[0m\u001b[0;34m\u001b[0m\u001b[0;34m\u001b[0m\u001b[0m\n\u001b[1;32m    620\u001b[0m             \u001b[0;32melse\u001b[0m\u001b[0;34m:\u001b[0m\u001b[0;34m\u001b[0m\u001b[0;34m\u001b[0m\u001b[0m\n\u001b[0;32m--> 621\u001b[0;31m                 \u001b[0mX\u001b[0m\u001b[0;34m,\u001b[0m \u001b[0my\u001b[0m \u001b[0;34m=\u001b[0m \u001b[0mcheck_X_y\u001b[0m\u001b[0;34m(\u001b[0m\u001b[0mX\u001b[0m\u001b[0;34m,\u001b[0m \u001b[0my\u001b[0m\u001b[0;34m,\u001b[0m \u001b[0;34m**\u001b[0m\u001b[0mcheck_params\u001b[0m\u001b[0;34m)\u001b[0m\u001b[0;34m\u001b[0m\u001b[0;34m\u001b[0m\u001b[0m\n\u001b[0m\u001b[1;32m    622\u001b[0m             \u001b[0mout\u001b[0m \u001b[0;34m=\u001b[0m \u001b[0mX\u001b[0m\u001b[0;34m,\u001b[0m \u001b[0my\u001b[0m\u001b[0;34m\u001b[0m\u001b[0;34m\u001b[0m\u001b[0m\n\u001b[1;32m    623\u001b[0m \u001b[0;34m\u001b[0m\u001b[0m\n",
      "\u001b[0;32m~/opt/anaconda3/lib/python3.9/site-packages/sklearn/utils/validation.py\u001b[0m in \u001b[0;36mcheck_X_y\u001b[0;34m(X, y, accept_sparse, accept_large_sparse, dtype, order, copy, force_all_finite, ensure_2d, allow_nd, multi_output, ensure_min_samples, ensure_min_features, y_numeric, estimator)\u001b[0m\n\u001b[1;32m   1145\u001b[0m         )\n\u001b[1;32m   1146\u001b[0m \u001b[0;34m\u001b[0m\u001b[0m\n\u001b[0;32m-> 1147\u001b[0;31m     X = check_array(\n\u001b[0m\u001b[1;32m   1148\u001b[0m         \u001b[0mX\u001b[0m\u001b[0;34m,\u001b[0m\u001b[0;34m\u001b[0m\u001b[0;34m\u001b[0m\u001b[0m\n\u001b[1;32m   1149\u001b[0m         \u001b[0maccept_sparse\u001b[0m\u001b[0;34m=\u001b[0m\u001b[0maccept_sparse\u001b[0m\u001b[0;34m,\u001b[0m\u001b[0;34m\u001b[0m\u001b[0;34m\u001b[0m\u001b[0m\n",
      "\u001b[0;32m~/opt/anaconda3/lib/python3.9/site-packages/sklearn/utils/validation.py\u001b[0m in \u001b[0;36mcheck_array\u001b[0;34m(array, accept_sparse, accept_large_sparse, dtype, order, copy, force_all_finite, ensure_2d, allow_nd, ensure_min_samples, ensure_min_features, estimator, input_name)\u001b[0m\n\u001b[1;32m    957\u001b[0m \u001b[0;34m\u001b[0m\u001b[0m\n\u001b[1;32m    958\u001b[0m         \u001b[0;32mif\u001b[0m \u001b[0mforce_all_finite\u001b[0m\u001b[0;34m:\u001b[0m\u001b[0;34m\u001b[0m\u001b[0;34m\u001b[0m\u001b[0m\n\u001b[0;32m--> 959\u001b[0;31m             _assert_all_finite(\n\u001b[0m\u001b[1;32m    960\u001b[0m                 \u001b[0marray\u001b[0m\u001b[0;34m,\u001b[0m\u001b[0;34m\u001b[0m\u001b[0;34m\u001b[0m\u001b[0m\n\u001b[1;32m    961\u001b[0m                 \u001b[0minput_name\u001b[0m\u001b[0;34m=\u001b[0m\u001b[0minput_name\u001b[0m\u001b[0;34m,\u001b[0m\u001b[0;34m\u001b[0m\u001b[0;34m\u001b[0m\u001b[0m\n",
      "\u001b[0;32m~/opt/anaconda3/lib/python3.9/site-packages/sklearn/utils/validation.py\u001b[0m in \u001b[0;36m_assert_all_finite\u001b[0;34m(X, allow_nan, msg_dtype, estimator_name, input_name)\u001b[0m\n\u001b[1;32m    122\u001b[0m         \u001b[0;32mreturn\u001b[0m\u001b[0;34m\u001b[0m\u001b[0;34m\u001b[0m\u001b[0m\n\u001b[1;32m    123\u001b[0m \u001b[0;34m\u001b[0m\u001b[0m\n\u001b[0;32m--> 124\u001b[0;31m     _assert_all_finite_element_wise(\n\u001b[0m\u001b[1;32m    125\u001b[0m         \u001b[0mX\u001b[0m\u001b[0;34m,\u001b[0m\u001b[0;34m\u001b[0m\u001b[0;34m\u001b[0m\u001b[0m\n\u001b[1;32m    126\u001b[0m         \u001b[0mxp\u001b[0m\u001b[0;34m=\u001b[0m\u001b[0mxp\u001b[0m\u001b[0;34m,\u001b[0m\u001b[0;34m\u001b[0m\u001b[0;34m\u001b[0m\u001b[0m\n",
      "\u001b[0;32m~/opt/anaconda3/lib/python3.9/site-packages/sklearn/utils/validation.py\u001b[0m in \u001b[0;36m_assert_all_finite_element_wise\u001b[0;34m(X, xp, allow_nan, msg_dtype, estimator_name, input_name)\u001b[0m\n\u001b[1;32m    171\u001b[0m                 \u001b[0;34m\"#estimators-that-handle-nan-values\"\u001b[0m\u001b[0;34m\u001b[0m\u001b[0;34m\u001b[0m\u001b[0m\n\u001b[1;32m    172\u001b[0m             )\n\u001b[0;32m--> 173\u001b[0;31m         \u001b[0;32mraise\u001b[0m \u001b[0mValueError\u001b[0m\u001b[0;34m(\u001b[0m\u001b[0mmsg_err\u001b[0m\u001b[0;34m)\u001b[0m\u001b[0;34m\u001b[0m\u001b[0;34m\u001b[0m\u001b[0m\n\u001b[0m\u001b[1;32m    174\u001b[0m \u001b[0;34m\u001b[0m\u001b[0m\n\u001b[1;32m    175\u001b[0m \u001b[0;34m\u001b[0m\u001b[0m\n",
      "\u001b[0;31mValueError\u001b[0m: Input X contains NaN.\nTomekLinks does not accept missing values encoded as NaN natively. For supervised learning, you might want to consider sklearn.ensemble.HistGradientBoostingClassifier and Regressor which accept missing values encoded as NaNs natively. Alternatively, it is possible to preprocess the data, for instance by using an imputer transformer in a pipeline or drop samples with missing values. See https://scikit-learn.org/stable/modules/impute.html You can find a list of all estimators that handle NaN values at the following page: https://scikit-learn.org/stable/modules/impute.html#estimators-that-handle-nan-values"
     ]
    }
   ],
   "source": [
    "from imblearn.under_sampling import TomekLinks\n",
    "\n",
    "tl = TomekLinks(sampling_strategy='majority')\n",
    "X_res, y_res = tl.fit_resample(all_feature_table.iloc[:,1:-3], all_feature_table.iloc[:,-1])\n",
    "\n",
    "downsampled_all_feature_table = all_feature_table.iloc[tl.sample_indices_].reset_index(drop=True)"
   ]
  },
  {
   "cell_type": "code",
   "execution_count": null,
   "id": "9561667c",
   "metadata": {},
   "outputs": [],
   "source": [
    "healthy_n = downsampled_all_feature_table.loc[downsampled_all_feature_table['id'].str.contains('healthy')].shape[0]\n",
    "T1D_downsampled_all_feature_table = downsampled_all_feature_table.loc[downsampled_all_feature_table['id'].str.contains('T1D')]"
   ]
  },
  {
   "cell_type": "code",
   "execution_count": null,
   "id": "5a272b0e",
   "metadata": {},
   "outputs": [],
   "source": [
    "all_healthy = downsampled_all_feature_table.loc[downsampled_all_feature_table['id'].str.contains('healthy')]\n",
    "all_T1D = T1D_downsampled_all_feature_table.sample(healthy_n)\n",
    "balanced_data = pd.concat([all_healthy,all_T1D]).reset_index(drop=True)"
   ]
  },
  {
   "cell_type": "code",
   "execution_count": null,
   "id": "d67dbc38",
   "metadata": {},
   "outputs": [],
   "source": [
    "balanced_data.to_csv(\"S_Journal_Training_Balanced.csv\",index=False)"
   ]
  },
  {
   "cell_type": "markdown",
   "id": "f0ee1a32",
   "metadata": {},
   "source": [
    "# Create Validation Dataset Using Colas_healthy_208 and Tam_T1D_451"
   ]
  },
  {
   "cell_type": "markdown",
   "id": "a70d161b",
   "metadata": {},
   "source": [
    "### Import Healthy and T1D Data"
   ]
  },
  {
   "cell_type": "code",
   "execution_count": 11,
   "id": "d16d1c77",
   "metadata": {},
   "outputs": [],
   "source": [
    "CGM_healthy = pd.read_csv(\"../Public Datasets/Colas_Healthy_208/Colas_healthy_processed.csv\")\n",
    "CGM_healthy = CGM_healthy.rename(columns={\"id\": \"ID\", \"gl\": \"Glucose\", \"time\": \"Time\"})\n",
    "\n",
    "CGM_healthy.ID = CGM_healthy.ID.astype('str')\n",
    "CGM_healthy.ID = \"Colas_\"+CGM_healthy.ID\n",
    "\n",
    "CGM_T1D = pd.read_csv(\"../Public Datasets/Tamborlane_T1D_451/Processed/tblADataRTCGM_processed.csv\")\n",
    "CGM_T1D = CGM_T1D.rename(columns={\"id\": \"ID\", \"gl\": \"Glucose\", \"time\": \"Time\"})\n",
    "\n",
    "CGM_T1D.dropna(inplace=True)\n",
    "CGM_T1D.ID = CGM_T1D.ID.astype('int').astype('str')\n",
    "CGM_T1D.ID = \"Tam_T1D_\"+CGM_T1D.ID"
   ]
  },
  {
   "cell_type": "code",
   "execution_count": 12,
   "id": "3c509d42",
   "metadata": {},
   "outputs": [],
   "source": [
    "all_subjects_table = pd.concat([CGM_healthy, CGM_T1D])\n",
    "all_subjects_table = all_subjects_table.rename(columns={\"id\": \"ID\", \"gl\": \"Glucose\", \"time\": \"Time\"})\n",
    "all_subjects_table.Time = pd.to_datetime(all_subjects_table['Time'])"
   ]
  },
  {
   "cell_type": "markdown",
   "id": "7ef5ef59",
   "metadata": {},
   "source": [
    "### Compute glycemic features for all segmented day"
   ]
  },
  {
   "cell_type": "code",
   "execution_count": 13,
   "id": "96ea53d9",
   "metadata": {},
   "outputs": [
    {
     "name": "stderr",
     "output_type": "stream",
     "text": [
      "100%|████████████████████████████████████████████████████████████████████████████████| 642/642 [06:14<00:00,  1.72it/s]\n"
     ]
    }
   ],
   "source": [
    "all_subjects_table_data_grouped = all_subjects_table.groupby(['ID'])\n",
    "\n",
    "# Define a function to process each group\n",
    "def process_group(id):\n",
    "    current_id_data = all_subjects_table_data_grouped.get_group(id).sort_values(by='Time').reset_index(drop=True)\n",
    "    feature_table = taml.feature_extraction_fixed_hour_window_0oclock(current_id_data, id, hour=24)\n",
    "    return feature_table if feature_table.shape[1] > 1 else None\n",
    "\n",
    "# Use ThreadPoolExecutor to process groups in parallel\n",
    "with ThreadPoolExecutor() as executor:\n",
    "    # Map process_group function to each ID, and use tqdm for progress bar\n",
    "    results = list(tqdm(executor.map(process_group, all_subjects_table_data_grouped.groups.keys()), total=len(all_subjects_table_data_grouped)))\n",
    "\n",
    "# Concatenate non-None results to get the final DataFrame\n",
    "all_feature_table = pd.concat([res for res in results if res is not None], ignore_index=True)"
   ]
  },
  {
   "cell_type": "code",
   "execution_count": 14,
   "id": "1daed891",
   "metadata": {},
   "outputs": [],
   "source": [
    "all_feature_table.dropna(inplace=True)\n",
    "all_feature_table.reset_index(inplace=True,drop=True)"
   ]
  },
  {
   "cell_type": "markdown",
   "id": "9f25798d",
   "metadata": {},
   "source": [
    "### Generate Label"
   ]
  },
  {
   "cell_type": "code",
   "execution_count": 15,
   "id": "7821eab4",
   "metadata": {},
   "outputs": [],
   "source": [
    "label = []\n",
    "for ids in all_feature_table.id:\n",
    "    if \"T1D\" in ids:\n",
    "        label.append(1)\n",
    "    else:\n",
    "        label.append(0)\n",
    "all_feature_table[\"label\"]=label"
   ]
  },
  {
   "cell_type": "code",
   "execution_count": 16,
   "id": "e1c60a3d-493b-4125-a662-34190e79db9e",
   "metadata": {},
   "outputs": [
    {
     "data": {
      "text/html": [
       "<div>\n",
       "<style scoped>\n",
       "    .dataframe tbody tr th:only-of-type {\n",
       "        vertical-align: middle;\n",
       "    }\n",
       "\n",
       "    .dataframe tbody tr th {\n",
       "        vertical-align: top;\n",
       "    }\n",
       "\n",
       "    .dataframe thead th {\n",
       "        text-align: right;\n",
       "    }\n",
       "</style>\n",
       "<table border=\"1\" class=\"dataframe\">\n",
       "  <thead>\n",
       "    <tr style=\"text-align: right;\">\n",
       "      <th></th>\n",
       "      <th>id</th>\n",
       "      <th>mean</th>\n",
       "      <th>median</th>\n",
       "      <th>min</th>\n",
       "      <th>max</th>\n",
       "      <th>fq</th>\n",
       "      <th>tq</th>\n",
       "      <th>interdaysd</th>\n",
       "      <th>interdaycv</th>\n",
       "      <th>TOR</th>\n",
       "      <th>...</th>\n",
       "      <th>TIR_70_180</th>\n",
       "      <th>TA180</th>\n",
       "      <th>TA250</th>\n",
       "      <th>TB70</th>\n",
       "      <th>TB54</th>\n",
       "      <th>TITR</th>\n",
       "      <th>GRI</th>\n",
       "      <th>PA140</th>\n",
       "      <th>PA200</th>\n",
       "      <th>label</th>\n",
       "    </tr>\n",
       "  </thead>\n",
       "  <tbody>\n",
       "    <tr>\n",
       "      <th>0</th>\n",
       "      <td>Colas_Healthy_1_win1</td>\n",
       "      <td>98.47743055555556</td>\n",
       "      <td>92.0</td>\n",
       "      <td>75.5</td>\n",
       "      <td>141.5</td>\n",
       "      <td>85.0</td>\n",
       "      <td>108.75</td>\n",
       "      <td>17.477326909397654</td>\n",
       "      <td>17.747545616087034</td>\n",
       "      <td>325</td>\n",
       "      <td>...</td>\n",
       "      <td>1440</td>\n",
       "      <td>0</td>\n",
       "      <td>0</td>\n",
       "      <td>0</td>\n",
       "      <td>0</td>\n",
       "      <td>1420</td>\n",
       "      <td>0.0</td>\n",
       "      <td>1</td>\n",
       "      <td>0</td>\n",
       "      <td>0</td>\n",
       "    </tr>\n",
       "    <tr>\n",
       "      <th>1</th>\n",
       "      <td>Colas_Healthy_1_win2</td>\n",
       "      <td>98.47743055555556</td>\n",
       "      <td>92.0</td>\n",
       "      <td>75.5</td>\n",
       "      <td>141.5</td>\n",
       "      <td>85.0</td>\n",
       "      <td>108.75</td>\n",
       "      <td>17.477326909397654</td>\n",
       "      <td>17.747545616087034</td>\n",
       "      <td>325</td>\n",
       "      <td>...</td>\n",
       "      <td>1440</td>\n",
       "      <td>0</td>\n",
       "      <td>0</td>\n",
       "      <td>0</td>\n",
       "      <td>0</td>\n",
       "      <td>1420</td>\n",
       "      <td>0.0</td>\n",
       "      <td>1</td>\n",
       "      <td>0</td>\n",
       "      <td>0</td>\n",
       "    </tr>\n",
       "    <tr>\n",
       "      <th>2</th>\n",
       "      <td>Colas_Healthy_101_win1</td>\n",
       "      <td>94.03993055555556</td>\n",
       "      <td>93.5</td>\n",
       "      <td>85.0</td>\n",
       "      <td>103.0</td>\n",
       "      <td>91.0</td>\n",
       "      <td>97.5</td>\n",
       "      <td>4.001211100773771</td>\n",
       "      <td>4.254800144083468</td>\n",
       "      <td>480</td>\n",
       "      <td>...</td>\n",
       "      <td>1440</td>\n",
       "      <td>0</td>\n",
       "      <td>0</td>\n",
       "      <td>0</td>\n",
       "      <td>0</td>\n",
       "      <td>1440</td>\n",
       "      <td>0.0</td>\n",
       "      <td>0</td>\n",
       "      <td>0</td>\n",
       "      <td>0</td>\n",
       "    </tr>\n",
       "    <tr>\n",
       "      <th>3</th>\n",
       "      <td>Colas_Healthy_101_win2</td>\n",
       "      <td>94.03993055555556</td>\n",
       "      <td>93.5</td>\n",
       "      <td>85.0</td>\n",
       "      <td>103.0</td>\n",
       "      <td>91.0</td>\n",
       "      <td>97.5</td>\n",
       "      <td>4.001211100773771</td>\n",
       "      <td>4.254800144083468</td>\n",
       "      <td>480</td>\n",
       "      <td>...</td>\n",
       "      <td>1440</td>\n",
       "      <td>0</td>\n",
       "      <td>0</td>\n",
       "      <td>0</td>\n",
       "      <td>0</td>\n",
       "      <td>1440</td>\n",
       "      <td>0.0</td>\n",
       "      <td>0</td>\n",
       "      <td>0</td>\n",
       "      <td>0</td>\n",
       "    </tr>\n",
       "    <tr>\n",
       "      <th>4</th>\n",
       "      <td>Colas_Healthy_108_win1</td>\n",
       "      <td>112.13194444444444</td>\n",
       "      <td>103.0</td>\n",
       "      <td>74.5</td>\n",
       "      <td>239.0</td>\n",
       "      <td>86.0</td>\n",
       "      <td>125.0</td>\n",
       "      <td>34.66313514219105</td>\n",
       "      <td>30.912810184402744</td>\n",
       "      <td>230</td>\n",
       "      <td>...</td>\n",
       "      <td>1365</td>\n",
       "      <td>75</td>\n",
       "      <td>0</td>\n",
       "      <td>0</td>\n",
       "      <td>0</td>\n",
       "      <td>1235</td>\n",
       "      <td>60.0</td>\n",
       "      <td>2</td>\n",
       "      <td>1</td>\n",
       "      <td>0</td>\n",
       "    </tr>\n",
       "    <tr>\n",
       "      <th>...</th>\n",
       "      <td>...</td>\n",
       "      <td>...</td>\n",
       "      <td>...</td>\n",
       "      <td>...</td>\n",
       "      <td>...</td>\n",
       "      <td>...</td>\n",
       "      <td>...</td>\n",
       "      <td>...</td>\n",
       "      <td>...</td>\n",
       "      <td>...</td>\n",
       "      <td>...</td>\n",
       "      <td>...</td>\n",
       "      <td>...</td>\n",
       "      <td>...</td>\n",
       "      <td>...</td>\n",
       "      <td>...</td>\n",
       "      <td>...</td>\n",
       "      <td>...</td>\n",
       "      <td>...</td>\n",
       "      <td>...</td>\n",
       "      <td>...</td>\n",
       "    </tr>\n",
       "    <tr>\n",
       "      <th>22292</th>\n",
       "      <td>Tam_T1D_98_win127</td>\n",
       "      <td>134.2972027972028</td>\n",
       "      <td>118.0</td>\n",
       "      <td>56.0</td>\n",
       "      <td>259.0</td>\n",
       "      <td>100.0</td>\n",
       "      <td>161.0</td>\n",
       "      <td>47.78725207319548</td>\n",
       "      <td>35.583207302803785</td>\n",
       "      <td>310</td>\n",
       "      <td>...</td>\n",
       "      <td>1200</td>\n",
       "      <td>215</td>\n",
       "      <td>85</td>\n",
       "      <td>15</td>\n",
       "      <td>0</td>\n",
       "      <td>890</td>\n",
       "      <td>344.0</td>\n",
       "      <td>3</td>\n",
       "      <td>1</td>\n",
       "      <td>1</td>\n",
       "    </tr>\n",
       "    <tr>\n",
       "      <th>22293</th>\n",
       "      <td>Tam_T1D_98_win128</td>\n",
       "      <td>122.91756272401433</td>\n",
       "      <td>107.0</td>\n",
       "      <td>39.0</td>\n",
       "      <td>248.0</td>\n",
       "      <td>72.0</td>\n",
       "      <td>171.5</td>\n",
       "      <td>62.42469596610881</td>\n",
       "      <td>50.785823101838105</td>\n",
       "      <td>560</td>\n",
       "      <td>...</td>\n",
       "      <td>755</td>\n",
       "      <td>315</td>\n",
       "      <td>0</td>\n",
       "      <td>335</td>\n",
       "      <td>245</td>\n",
       "      <td>590</td>\n",
       "      <td>1791.0</td>\n",
       "      <td>2</td>\n",
       "      <td>1</td>\n",
       "      <td>1</td>\n",
       "    </tr>\n",
       "    <tr>\n",
       "      <th>22294</th>\n",
       "      <td>Tam_T1D_98_win139</td>\n",
       "      <td>133.39208633093526</td>\n",
       "      <td>122.0</td>\n",
       "      <td>65.0</td>\n",
       "      <td>278.0</td>\n",
       "      <td>87.0</td>\n",
       "      <td>168.25</td>\n",
       "      <td>52.8223663178488</td>\n",
       "      <td>39.59932539536166</td>\n",
       "      <td>425</td>\n",
       "      <td>...</td>\n",
       "      <td>1070</td>\n",
       "      <td>295</td>\n",
       "      <td>55</td>\n",
       "      <td>35</td>\n",
       "      <td>0</td>\n",
       "      <td>850</td>\n",
       "      <td>408.0</td>\n",
       "      <td>2</td>\n",
       "      <td>3</td>\n",
       "      <td>1</td>\n",
       "    </tr>\n",
       "    <tr>\n",
       "      <th>22295</th>\n",
       "      <td>Tam_T1D_98_win156</td>\n",
       "      <td>126.01459854014598</td>\n",
       "      <td>127.0</td>\n",
       "      <td>39.0</td>\n",
       "      <td>235.0</td>\n",
       "      <td>102.0</td>\n",
       "      <td>148.0</td>\n",
       "      <td>41.40444727364334</td>\n",
       "      <td>32.85686559597508</td>\n",
       "      <td>395</td>\n",
       "      <td>...</td>\n",
       "      <td>1090</td>\n",
       "      <td>150</td>\n",
       "      <td>0</td>\n",
       "      <td>145</td>\n",
       "      <td>90</td>\n",
       "      <td>705</td>\n",
       "      <td>738.0</td>\n",
       "      <td>5</td>\n",
       "      <td>1</td>\n",
       "      <td>1</td>\n",
       "    </tr>\n",
       "    <tr>\n",
       "      <th>22296</th>\n",
       "      <td>Tam_T1D_99_win47</td>\n",
       "      <td>193.72</td>\n",
       "      <td>182.0</td>\n",
       "      <td>83.0</td>\n",
       "      <td>306.0</td>\n",
       "      <td>125.0</td>\n",
       "      <td>262.0</td>\n",
       "      <td>70.74290044687427</td>\n",
       "      <td>36.51811916522521</td>\n",
       "      <td>635</td>\n",
       "      <td>...</td>\n",
       "      <td>665</td>\n",
       "      <td>710</td>\n",
       "      <td>440</td>\n",
       "      <td>0</td>\n",
       "      <td>0</td>\n",
       "      <td>455</td>\n",
       "      <td>1272.0</td>\n",
       "      <td>4</td>\n",
       "      <td>2</td>\n",
       "      <td>1</td>\n",
       "    </tr>\n",
       "  </tbody>\n",
       "</table>\n",
       "<p>22297 rows × 29 columns</p>\n",
       "</div>"
      ],
      "text/plain": [
       "0                          id                mean median   min    max     fq  \\\n",
       "0        Colas_Healthy_1_win1   98.47743055555556   92.0  75.5  141.5   85.0   \n",
       "1        Colas_Healthy_1_win2   98.47743055555556   92.0  75.5  141.5   85.0   \n",
       "2      Colas_Healthy_101_win1   94.03993055555556   93.5  85.0  103.0   91.0   \n",
       "3      Colas_Healthy_101_win2   94.03993055555556   93.5  85.0  103.0   91.0   \n",
       "4      Colas_Healthy_108_win1  112.13194444444444  103.0  74.5  239.0   86.0   \n",
       "...                       ...                 ...    ...   ...    ...    ...   \n",
       "22292       Tam_T1D_98_win127   134.2972027972028  118.0  56.0  259.0  100.0   \n",
       "22293       Tam_T1D_98_win128  122.91756272401433  107.0  39.0  248.0   72.0   \n",
       "22294       Tam_T1D_98_win139  133.39208633093526  122.0  65.0  278.0   87.0   \n",
       "22295       Tam_T1D_98_win156  126.01459854014598  127.0  39.0  235.0  102.0   \n",
       "22296        Tam_T1D_99_win47              193.72  182.0  83.0  306.0  125.0   \n",
       "\n",
       "0          tq          interdaysd          interdaycv  TOR  ... TIR_70_180  \\\n",
       "0      108.75  17.477326909397654  17.747545616087034  325  ...       1440   \n",
       "1      108.75  17.477326909397654  17.747545616087034  325  ...       1440   \n",
       "2        97.5   4.001211100773771   4.254800144083468  480  ...       1440   \n",
       "3        97.5   4.001211100773771   4.254800144083468  480  ...       1440   \n",
       "4       125.0   34.66313514219105  30.912810184402744  230  ...       1365   \n",
       "...       ...                 ...                 ...  ...  ...        ...   \n",
       "22292   161.0   47.78725207319548  35.583207302803785  310  ...       1200   \n",
       "22293   171.5   62.42469596610881  50.785823101838105  560  ...        755   \n",
       "22294  168.25    52.8223663178488   39.59932539536166  425  ...       1070   \n",
       "22295   148.0   41.40444727364334   32.85686559597508  395  ...       1090   \n",
       "22296   262.0   70.74290044687427   36.51811916522521  635  ...        665   \n",
       "\n",
       "0     TA180 TA250 TB70 TB54  TITR     GRI PA140 PA200 label  \n",
       "0         0     0    0    0  1420     0.0     1     0     0  \n",
       "1         0     0    0    0  1420     0.0     1     0     0  \n",
       "2         0     0    0    0  1440     0.0     0     0     0  \n",
       "3         0     0    0    0  1440     0.0     0     0     0  \n",
       "4        75     0    0    0  1235    60.0     2     1     0  \n",
       "...     ...   ...  ...  ...   ...     ...   ...   ...   ...  \n",
       "22292   215    85   15    0   890   344.0     3     1     1  \n",
       "22293   315     0  335  245   590  1791.0     2     1     1  \n",
       "22294   295    55   35    0   850   408.0     2     3     1  \n",
       "22295   150     0  145   90   705   738.0     5     1     1  \n",
       "22296   710   440    0    0   455  1272.0     4     2     1  \n",
       "\n",
       "[22297 rows x 29 columns]"
      ]
     },
     "execution_count": 16,
     "metadata": {},
     "output_type": "execute_result"
    }
   ],
   "source": [
    "all_feature_table"
   ]
  },
  {
   "cell_type": "code",
   "execution_count": 18,
   "id": "220737f9",
   "metadata": {},
   "outputs": [],
   "source": [
    "all_feature_table.to_csv(\"CIBM_Journal_Validation_Unbalanced.csv\",index=False)"
   ]
  },
  {
   "cell_type": "code",
   "execution_count": 20,
   "id": "9a5d6729",
   "metadata": {},
   "outputs": [],
   "source": [
    "healthy_n = all_feature_table.loc[all_feature_table['id'].str.contains('Healthy')].shape[0]\n",
    "T1D_all_feature_table = all_feature_table.loc[all_feature_table['id'].str.contains('T1D')]\n",
    "\n",
    "all_healthy = all_feature_table.loc[all_feature_table['id'].str.contains('Healthy')]\n",
    "all_T1D = T1D_all_feature_table.sample(healthy_n)\n",
    "balanced_data = pd.concat([all_healthy,all_T1D]).reset_index(drop=True)"
   ]
  }
 ],
 "metadata": {
  "kernelspec": {
   "display_name": "Python 3 (ipykernel)",
   "language": "python",
   "name": "python3"
  },
  "language_info": {
   "codemirror_mode": {
    "name": "ipython",
    "version": 3
   },
   "file_extension": ".py",
   "mimetype": "text/x-python",
   "name": "python",
   "nbconvert_exporter": "python",
   "pygments_lexer": "ipython3",
   "version": "3.11.1"
  }
 },
 "nbformat": 4,
 "nbformat_minor": 5
}
